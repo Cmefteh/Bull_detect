{
 "cells": [
  {
   "cell_type": "code",
   "execution_count": 2,
   "metadata": {},
   "outputs": [],
   "source": [
    "import os\n",
    "import librosa\n",
    "import librosa.display\n",
    "import numpy\n",
    "import numpy as np\n",
    "import matplotlib.pyplot as plt"
   ]
  },
  {
   "cell_type": "markdown",
   "metadata": {},
   "source": [
    "Create a list that contains start and stop seconds (=boundaries) of the cutted audio  \n"
   ]
  },
  {
   "cell_type": "code",
   "execution_count": 3,
   "metadata": {},
   "outputs": [],
   "source": [
    "def save_boundaries(start, stop): \n",
    "    n=len(start)\n",
    "    m=2\n",
    "    l=[[0]*m for i in range(n)]\n",
    "    for i in range(n) : \n",
    "        l[i][0] = start[i]\n",
    "        l[i][1] = stop[i]\n",
    "    return l"
   ]
  },
  {
   "cell_type": "markdown",
   "metadata": {},
   "source": [
    "### Get files\n",
    "This cell will fetch all wav files in the directories and subdirectories "
   ]
  },
  {
   "cell_type": "code",
   "execution_count": 12,
   "metadata": {},
   "outputs": [
    {
     "name": "stdout",
     "output_type": "stream",
     "text": [
      "- 1 files found in the directory /baie/travail/guyot/MRM/data/clean_corpus/2018/\n",
      "['2018-06-10_22-25.wav']\n"
     ]
    }
   ],
   "source": [
    "audio_dir = '/baie/travail/guyot/MRM/data/clean_corpus/2018/'\n",
    "\n",
    "files_path = []\n",
    "files_name = []\n",
    "for path, subdirs, files in os.walk(audio_dir):\n",
    "    for name in files: \n",
    "        if name.endswith(\".wav\"):\n",
    "            files_path.append(os.path.join(path, name))\n",
    "            files_name.append(name)\n",
    "print(\"-\", len(files_name), \"files found in the directory\", audio_dir)\n",
    "print(files_name)"
   ]
  },
  {
   "cell_type": "markdown",
   "metadata": {},
   "source": [
    "# Cut audio files + Save boundaries in text file + Mark the presence/absence of bull's sound"
   ]
  },
  {
   "cell_type": "markdown",
   "metadata": {},
   "source": [
    "This cell consists of designing a system that, after cutting audio files and from annotation files, returns a binary decision for the presence / absence of bull's sound"
   ]
  },
  {
   "cell_type": "code",
   "execution_count": 13,
   "metadata": {},
   "outputs": [
    {
     "name": "stdout",
     "output_type": "stream",
     "text": [
      "reading the audio: 2018-06-10_22-25.wav\n",
      "The audio:  2018-06-10_22-25.wav  was splitted successfully\n",
      "the presence/absence of bull's sound was marked successfully\n",
      "__________________________\n"
     ]
    }
   ],
   "source": [
    "features_dir= '/home/cmefteh/PFE/bulls_audio/audio_boundaries/'\n",
    "s_dir = '/baie/travail/guyot/MRM/data/sliced_audio/audio_cut/'\n",
    "bull_test = '/baie/travail/guyot/MRM/data/sliced_audio/test/'\n",
    "\n",
    "ext1= '_boundaries.txt'\n",
    "ext2= '.csv'\n",
    "\n",
    "sr=44100\n",
    "frame_length=10*sr\n",
    "hop_length=10*sr\n",
    "\n",
    "#samples_folder = os.path.join(s_dir, 'audio_splitted')\n",
    "\n",
    "for file_path, file_name in zip(files_path, files_name):\n",
    "    \n",
    "    feature_file_name = features_dir + os.path.splitext(file_name)[0] + ext1\n",
    "    test_file_name = bull_test + os.path.splitext(file_name)[0] + ext2\n",
    "        \n",
    "    #read the audio file\n",
    "    print(\"reading the audio:\", file_name)\n",
    "    y, sr = librosa.load(file_path, sr)      \n",
    "    \n",
    "    start = np.arange(0, len(y), hop_length) / sr       \n",
    "    stop = [x+(frame_length/float(sr)) for x in start]\n",
    "    \n",
    "    l = save_boundaries(start, stop) \n",
    "    \n",
    "   \n",
    "    \n",
    "    #save all cutted audio boundaries in the directory \"features_dir\"\n",
    "    np.savetxt(feature_file_name, l, fmt='%10d', delimiter=',')  \n",
    "    \n",
    "    #cut the audio file ______________________________\n",
    "    \n",
    "    # create a directory in \"s_dir\" having the same name of the original audio file where to save all the cutted audio from it  \n",
    "    samples_folder = os.path.join(s_dir, os.path.splitext(file_name)[0]) \n",
    "    \n",
    "    try:\n",
    "        os.makedirs(samples_folder)\n",
    "    except:\n",
    "        pass\n",
    "    \n",
    "    for i in range(len(l)):\n",
    "        \n",
    "        #select every successive 10 sec in the original audio file\n",
    "        x = y[int(l[i][0])*sr : int(l[i][1])*sr]       \n",
    "        \n",
    "        filename = os.path.join(samples_folder, os.path.splitext(file_name)[0] + \"_\" + str(int(start[i])).zfill(6) + '.wav')\n",
    "\n",
    "        #save the frame selected as a wav file\n",
    "        librosa.output.write_wav(filename, x, sr)     \n",
    "        \n",
    "    print(\"The audio: \",file_name, \" was splitted successfully\")\n",
    "    \n",
    "   \n",
    "    \n",
    "    #test the existence of the bulls in every cutted audio__________________________________\n",
    "    #create a text file \n",
    "    nb_ligne=len(l)\n",
    "    nb_colonne=2\n",
    "    test_file=[[0]*nb_colonne for i in range(nb_ligne)]\n",
    "    for i in range(nb_ligne) :\n",
    "        \n",
    "        #initialize all audios to 0 \n",
    "        test_file[i][0] = os.path.splitext(file_name)[0] + \"_\" + str(int(start[i])).zfill(6) + '.wav'\n",
    "         \n",
    "    #open the annotation file corresponds to the already running audio\n",
    "    with open ('{}.txt'.format(os.path.splitext(file_path)[0])) as f:\n",
    "        txt_file = numpy.loadtxt(f)\n",
    "        \n",
    "        for i in range(len(l)):\n",
    "            for j in range(len(txt_file)) :\n",
    "                #length of bull  \n",
    "                len_bull = txt_file[j][1] - txt_file[j][0]\n",
    "                #take the bulls that are longer than two seconds \n",
    "                if (len_bull >= 2) :\n",
    "                    if (start[i]<=txt_file[j][0]<=stop[i]) or (start[i]<=txt_file[j][1]<=stop[i]):\n",
    "                    #give \"1\" to the audio if it contains a bull\n",
    "                    #if not, leave it to \"0\"\n",
    "                        test_file[i][1]=\"1\"     \n",
    "                                    \n",
    "        \n",
    "        #save the new modification after testing bulls existence\n",
    "        np.savetxt(test_file_name, test_file, fmt='%s')   \n",
    "        print(\"the presence/absence of bull's sound was marked successfully\")\n",
    "        print(\"__________________________\") "
   ]
  },
  {
   "cell_type": "code",
   "execution_count": null,
   "metadata": {
    "collapsed": true
   },
   "outputs": [],
   "source": []
  }
 ],
 "metadata": {
  "kernelspec": {
   "display_name": "Python 3",
   "language": "python",
   "name": "python3"
  },
  "language_info": {
   "codemirror_mode": {
    "name": "ipython",
    "version": 3
   },
   "file_extension": ".py",
   "mimetype": "text/x-python",
   "name": "python",
   "nbconvert_exporter": "python",
   "pygments_lexer": "ipython3",
   "version": "3.5.6"
  }
 },
 "nbformat": 4,
 "nbformat_minor": 2
}
